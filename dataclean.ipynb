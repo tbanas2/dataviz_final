{
 "cells": [
  {
   "cell_type": "code",
   "execution_count": 1,
   "metadata": {},
   "outputs": [],
   "source": [
    "import pandas as pd"
   ]
  },
  {
   "cell_type": "code",
   "execution_count": 2,
   "metadata": {},
   "outputs": [],
   "source": [
    "df = pd.read_csv('.\\\\data\\\\comptables_full.csv')"
   ]
  },
  {
   "cell_type": "code",
   "execution_count": 3,
   "metadata": {},
   "outputs": [
    {
     "data": {
      "text/plain": [
       "Index(['State', 'Salary Parity', 'Requirements', 'Guidelines or Plans',\n",
       "       'Earmarks', 'Stipend/ Tax Credit', 'Bonus', 'Status'],\n",
       "      dtype='object')"
      ]
     },
     "execution_count": 3,
     "metadata": {},
     "output_type": "execute_result"
    }
   ],
   "source": [
    "df.columns"
   ]
  },
  {
   "cell_type": "code",
   "execution_count": 6,
   "metadata": {},
   "outputs": [],
   "source": [
    "map ={'Stalled':0,\n",
    " 'Edging Forward':1}"
   ]
  },
  {
   "cell_type": "code",
   "execution_count": 7,
   "metadata": {},
   "outputs": [
    {
     "data": {
      "text/plain": [
       "0     1\n",
       "1     0\n",
       "2     0\n",
       "3     0\n",
       "4     0\n",
       "5     0\n",
       "6     0\n",
       "7     1\n",
       "8     1\n",
       "9     0\n",
       "10    1\n",
       "11    0\n",
       "12    0\n",
       "13    0\n",
       "14    0\n",
       "15    0\n",
       "16    0\n",
       "17    0\n",
       "18    0\n",
       "19    0\n",
       "20    0\n",
       "21    0\n",
       "22    0\n",
       "23    0\n",
       "24    0\n",
       "25    0\n",
       "26    0\n",
       "27    0\n",
       "28    1\n",
       "29    0\n",
       "30    0\n",
       "31    0\n",
       "32    0\n",
       "33    1\n",
       "34    0\n",
       "35    0\n",
       "36    1\n",
       "37    0\n",
       "38    0\n",
       "39    1\n",
       "40    0\n",
       "41    0\n",
       "42    0\n",
       "43    0\n",
       "44    0\n",
       "45    1\n",
       "46    0\n",
       "47    0\n",
       "48    0\n",
       "49    0\n",
       "50    0\n",
       "Name: Status, dtype: int64"
      ]
     },
     "execution_count": 7,
     "metadata": {},
     "output_type": "execute_result"
    }
   ],
   "source": [
    "df['Status'].map(map)"
   ]
  },
  {
   "cell_type": "code",
   "execution_count": 5,
   "metadata": {},
   "outputs": [
    {
     "data": {
      "text/plain": [
       "0         Salary Parity? Parity (all)\\nRequirements? No\n",
       "1     Salary Parity? Sub-Parity (some)\\nRequirements...\n",
       "2            Salary Parity? No Parity\\nRequirements? No\n",
       "3            Salary Parity? No Parity\\nRequirements? No\n",
       "4        Salary Parity? Parity (some)\\nRequirements? No\n",
       "5            Salary Parity? No Parity\\nRequirements? No\n",
       "6            Salary Parity? No Parity\\nRequirements? No\n",
       "7        Salary Parity? Parity (some)\\nRequirements? No\n",
       "8        Salary Parity? Parity (some)\\nRequirements? No\n",
       "9            Salary Parity? No Parity\\nRequirements? No\n",
       "10       Salary Parity? Parity (some)\\nRequirements? No\n",
       "11        Salary Parity? Parity (all)\\nRequirements? No\n",
       "12      Salary Parity? Not Applicable\\nRequirements? No\n",
       "13           Salary Parity? No Parity\\nRequirements? No\n",
       "14      Salary Parity? Not Applicable\\nRequirements? No\n",
       "15       Salary Parity? Parity (some)\\nRequirements? No\n",
       "16           Salary Parity? No Parity\\nRequirements? No\n",
       "17       Salary Parity? Parity (some)\\nRequirements? No\n",
       "18           Salary Parity? No Parity\\nRequirements? No\n",
       "19       Salary Parity? Parity (some)\\nRequirements? No\n",
       "20       Salary Parity? Parity (some)\\nRequirements? No\n",
       "21           Salary Parity? No Parity\\nRequirements? No\n",
       "22           Salary Parity? No Parity\\nRequirements? No\n",
       "23    Salary Parity? Partial Parity (some)\\nRequirem...\n",
       "24       Salary Parity? Parity (some)\\nRequirements? No\n",
       "25    Salary Parity? Sub-Parity (some)\\nRequirements...\n",
       "26       Salary Parity? Parity (some)\\nRequirements? No\n",
       "27           Salary Parity? No Parity\\nRequirements? No\n",
       "28        Salary Parity? Parity (all)\\nRequirements? No\n",
       "29      Salary Parity? Not Applicable\\nRequirements? No\n",
       "30        Salary Parity? Parity (all)\\nRequirements? No\n",
       "31       Salary Parity? Parity (some)\\nRequirements? No\n",
       "32           Salary Parity? No Parity\\nRequirements? No\n",
       "33       Salary Parity? Parity (some)\\nRequirements? No\n",
       "34           Salary Parity? No Parity\\nRequirements? No\n",
       "35           Salary Parity? No Parity\\nRequirements? No\n",
       "36        Salary Parity? Parity (all)\\nRequirements? No\n",
       "37           Salary Parity? No Parity\\nRequirements? No\n",
       "38           Salary Parity? No Parity\\nRequirements? No\n",
       "39        Salary Parity? Parity (all)\\nRequirements? No\n",
       "40       Salary Parity? Parity (some)\\nRequirements? No\n",
       "41      Salary Parity? Not Applicable\\nRequirements? No\n",
       "42       Salary Parity? Parity (some)\\nRequirements? No\n",
       "43       Salary Parity? Parity (some)\\nRequirements? No\n",
       "44      Salary Parity? Not Applicable\\nRequirements? No\n",
       "45       Salary Parity? Parity (some)\\nRequirements? No\n",
       "46       Salary Parity? Parity (some)\\nRequirements? No\n",
       "47           Salary Parity? No Parity\\nRequirements? No\n",
       "48       Salary Parity? Parity (some)\\nRequirements? No\n",
       "49           Salary Parity? No Parity\\nRequirements? No\n",
       "50      Salary Parity? Not Applicable\\nRequirements? No\n",
       "dtype: object"
      ]
     },
     "execution_count": 5,
     "metadata": {},
     "output_type": "execute_result"
    }
   ],
   "source": [
    "'Salary Parity? ' + df['Salary Parity'] + '\\n' + 'Requirements? ' + df['Requirements'] "
   ]
  },
  {
   "cell_type": "code",
   "execution_count": null,
   "metadata": {},
   "outputs": [],
   "source": [
    "output = "
   ]
  }
 ],
 "metadata": {
  "kernelspec": {
   "display_name": "Python 3",
   "language": "python",
   "name": "python3"
  },
  "language_info": {
   "codemirror_mode": {
    "name": "ipython",
    "version": 3
   },
   "file_extension": ".py",
   "mimetype": "text/x-python",
   "name": "python",
   "nbconvert_exporter": "python",
   "pygments_lexer": "ipython3",
   "version": "3.10.4"
  },
  "orig_nbformat": 4
 },
 "nbformat": 4,
 "nbformat_minor": 2
}
